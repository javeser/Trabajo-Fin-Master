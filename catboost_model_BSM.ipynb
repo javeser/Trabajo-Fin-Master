{
 "cells": [
  {
   "cell_type": "code",
   "execution_count": null,
   "metadata": {},
   "outputs": [],
   "source": [
    "import uproot \n",
    "import matplotlib.pyplot as plt\n",
    "import numpy as np \n",
    "import pandas as pd\n",
    "import seaborn as sns\n",
    "import plotly.express as px\n"
   ]
  },
  {
   "cell_type": "code",
   "execution_count": null,
   "metadata": {},
   "outputs": [],
   "source": [
    "my_tuple = uproot.open(\"Lb2JpsiLambda_yz_tuple.root:Hlt2DetachedJpsiTuple/Tuple\")"
   ]
  },
  {
   "cell_type": "code",
   "execution_count": null,
   "metadata": {},
   "outputs": [],
   "source": [
    "my_tuple.keys()"
   ]
  },
  {
   "cell_type": "code",
   "execution_count": null,
   "metadata": {},
   "outputs": [],
   "source": [
    "keys = [\"Jpsi_PT\",\"Lambda0_END_VRHO\",\"Lambda0_BPVDIRA\",\"Lambda0_BPVIP\",\"Lambda0_BPVIPCHI2\",\"Lambda0_MASS\",\"Lb_BPVDIRA\",\"Lb_BPVIP\",\"Lb_BPVVDRHO\",\"Lb_MAXSDOCA\",\"Lb_P\",\"Lb_PT\",\"Lb_CHI2\",\"Lambda0_TRUEENDVZ\",\"Lb_BKGCAT\",\"p_plus_PID_P\",\"p_plus_PID_K\",\"p_plus_MINIP\",\"p_plus_P\",\"p_plus_PT\",\"pi_minus_P\",\"pi_minus_PT\"]"
   ]
  },
  {
   "cell_type": "code",
   "execution_count": null,
   "metadata": {},
   "outputs": [],
   "source": [
    "signal_data = my_tuple.arrays(keys,library=\"pd\", cut=\"(Lb_BKGCAT==0)&(Lambda0_TRUEENDVZ > 2500)\")\n",
    "bg_data = my_tuple.arrays(keys,library=\"pd\", cut=\"(Lb_BKGCAT!=0)|(Lambda0_TRUEENDVZ < 2500)\")"
   ]
  },
  {
   "cell_type": "code",
   "execution_count": null,
   "metadata": {},
   "outputs": [],
   "source": [
    "f, ax = plt.subplots(figsize =(20, 20))\n",
    "sns.heatmap(signal_data.corr(), ax = ax, cmap =\"YlGnBu\", linewidths = 0.1)\n",
    "plt.show()"
   ]
  },
  {
   "cell_type": "code",
   "execution_count": null,
   "metadata": {},
   "outputs": [],
   "source": [
    "bg_data"
   ]
  },
  {
   "cell_type": "code",
   "execution_count": null,
   "metadata": {},
   "outputs": [],
   "source": [
    "signal_data"
   ]
  },
  {
   "cell_type": "code",
   "execution_count": null,
   "metadata": {},
   "outputs": [],
   "source": [
    "training_data = signal_data.merge(bg_data.sample(len(signal_data)),how='outer')\n",
    "training_data"
   ]
  },
  {
   "cell_type": "code",
   "execution_count": null,
   "metadata": {},
   "outputs": [],
   "source": [
    "training_data['SIGNAL'] = False\n",
    "mask =(training_data['Lb_BKGCAT'] == 0)\n",
    "training_data.loc[mask,'SIGNAL'] = True\n",
    "mask = (training_data['Lambda0_TRUEENDVZ'] < 2500)\n",
    "training_data.loc[mask,'SIGNAL'] = False"
   ]
  },
  {
   "cell_type": "code",
   "execution_count": null,
   "metadata": {},
   "outputs": [],
   "source": [
    "from sklearn.model_selection import train_test_split\n",
    "from catboost import CatBoostClassifier, Pool\n",
    "from catboost.utils import get_roc_curve"
   ]
  },
  {
   "cell_type": "code",
   "execution_count": null,
   "metadata": {},
   "outputs": [],
   "source": [
    "to_drop = [\"SIGNAL\", \"Lb_BKGCAT\", \"Lambda0_TRUEENDVZ\"]\n"
   ]
  },
  {
   "cell_type": "code",
   "execution_count": null,
   "metadata": {},
   "outputs": [],
   "source": [
    "X_tr, X_eval = train_test_split(training_data)\n",
    "y_tr = X_tr.SIGNAL\n",
    "y_tr_clean = y_tr == True\n",
    "X_tr_copy = X_tr.copy()\n",
    "X_tr.drop(columns=to_drop, inplace=True)"
   ]
  },
  {
   "cell_type": "code",
   "execution_count": null,
   "metadata": {},
   "outputs": [],
   "source": [
    "y_eval =  X_eval.SIGNAL\n",
    "y_eval_clean = y_eval == True\n",
    "X_eval_copy = X_eval.copy()\n",
    "X_eval.drop(columns=to_drop, inplace=True)"
   ]
  },
  {
   "cell_type": "code",
   "execution_count": null,
   "metadata": {},
   "outputs": [],
   "source": [
    "X_eval.columns"
   ]
  },
  {
   "cell_type": "code",
   "execution_count": null,
   "metadata": {},
   "outputs": [],
   "source": [
    "model_params = {\n",
    "    'iterations': 5000, \n",
    "    'loss_function': 'Logloss',\n",
    "    'train_dir': 'crossentropy',\n",
    "    'allow_writing_files': False,\n",
    "    'od_type': 'IncToDec',\n",
    "}"
   ]
  },
  {
   "cell_type": "code",
   "execution_count": null,
   "metadata": {},
   "outputs": [],
   "source": [
    "train_dataset = Pool(X_tr, y_tr_clean, feature_names=list(X_tr.columns))\n",
    "eval_dataset = Pool(X_eval, y_eval_clean, feature_names=list(X_eval.columns))"
   ]
  },
  {
   "cell_type": "code",
   "execution_count": null,
   "metadata": {},
   "outputs": [],
   "source": [
    "model = CatBoostClassifier(**model_params,custom_metric=['Logloss',\n",
    "                   'AUC:hints=skip_train~false','Accuracy'])\n",
    "model.fit(train_dataset, verbose=True, plot=False)"
   ]
  },
  {
   "cell_type": "code",
   "execution_count": null,
   "metadata": {},
   "outputs": [],
   "source": [
    "import sklearn.metrics as metrics\n",
    "probs = model.predict_proba(X_eval)\n",
    "preds = probs[:,1]\n",
    "fpr, tpr, threshold = metrics.roc_curve(y_eval, preds)\n",
    "roc_auc = metrics.auc(fpr, tpr)\n",
    "\n",
    "import matplotlib.pyplot as plt\n",
    "\n",
    "plt.title('ROC (CatBoost)', fontsize=22)\n",
    "plt.plot(fpr, tpr, 'b', label = 'AUC = %0.2f' % roc_auc)\n",
    "plt.legend(loc = 'lower right', fontsize=18)\n",
    "plt.plot([0, 1], [0, 1],'r--')\n",
    "plt.xlim([0, 1])\n",
    "plt.ylim([0, 1])\n",
    "plt.ylabel('True Positive Rate', fontsize=20)\n",
    "plt.xlabel('False Positive Rate', fontsize=20)\n",
    "plt.xticks(fontsize=18) \n",
    "plt.yticks(fontsize=18) \n",
    "plt.show()"
   ]
  },
  {
   "cell_type": "code",
   "execution_count": null,
   "metadata": {},
   "outputs": [],
   "source": [
    "print(model.get_best_score())\n",
    "print(model.get_all_params())"
   ]
  },
  {
   "cell_type": "code",
   "execution_count": null,
   "metadata": {},
   "outputs": [],
   "source": [
    "sorted_feature_importance = model.feature_importances_.argsort()\n",
    "plt.rcParams[\"figure.figsize\"] = (7,6)\n",
    "plt.barh(X_eval.columns[sorted_feature_importance], \n",
    "        model.feature_importances_[sorted_feature_importance], \n",
    "        color='turquoise')\n",
    "plt.xlabel(\"CatBoost Feature Importance\", fontsize=18)  # Ajusta el tamaño de fuente de las etiquetas en el eje y\n",
    "plt.xticks(fontsize=12)  # Ajusta el tamaño de fuente de las marcas en el eje x\n",
    "plt.yticks(fontsize=13)  # Ajusta el tamaño de fuente de las etiquetas en el eje y"
   ]
  },
  {
   "cell_type": "code",
   "execution_count": null,
   "metadata": {},
   "outputs": [],
   "source": [
    "signal_MVA_prob_eval = model.predict_proba(X_eval_copy)\n",
    "signal_MVA_probs = [1 - i[0] for i in signal_MVA_prob_eval]\n",
    "X_eval_copy['signal_MVA'] = signal_MVA_probs\n",
    "\n",
    "signal_MVA_prob_tr = model.predict_proba(X_tr_copy)\n",
    "signal_MVA_probs = [1 - i[0] for i in signal_MVA_prob_tr]\n",
    "X_tr_copy['signal_MVA'] = signal_MVA_probs"
   ]
  },
  {
   "cell_type": "code",
   "execution_count": null,
   "metadata": {},
   "outputs": [],
   "source": [
    "fig, ax = plt.subplots()\n",
    "\n",
    "density = True\n",
    "\n",
    "variable = 'signal_MVA'\n",
    "\n",
    "bins = np.linspace(0,1,50)\n",
    "\n",
    "n_sig,bins_sig, _ = ax.hist(X_eval_copy.query(f'SIGNAL')[variable], bins=bins, linewidth=1 ,label=\"Signal eval\",histtype='step',density=density)\n",
    "n_bg,bins_bg, _ = ax.hist(X_eval_copy.query(f'not SIGNAL')[variable], bins=bins, linewidth=1 ,label=\"BG eval\",histtype='step',density=density)\n",
    "\n",
    "ax.hist(X_tr_copy.query(f'SIGNAL')[variable], bins=bins, linewidth=1 ,label=\"Signal tr\",histtype='step',density=density)\n",
    "ax.hist(X_tr_copy.query(f'not SIGNAL')[variable], bins=bins, linewidth=1 ,label=\"BG tr\",histtype='step',density=density)\n",
    "\n",
    "ax.legend(fontsize=20)  # Ajusta el tamaño de fuente de la leyenda\n",
    "ax.set_xlabel(\"catboost_signal_MVA\", fontsize=24)  # Ajusta el tamaño de fuente del eje x\n",
    "\n",
    "# Ajusta el tamaño de fuente de las marcas en los ejes x e y\n",
    "ax.tick_params(axis='both', which='major', labelsize=19)\n",
    "\n",
    "plt.show()"
   ]
  }
 ],
 "metadata": {
  "language_info": {
   "name": "python"
  },
  "orig_nbformat": 4
 },
 "nbformat": 4,
 "nbformat_minor": 2
}
